{
  "nbformat": 4,
  "nbformat_minor": 0,
  "metadata": {
    "colab": {
      "name": "LAB 5.ipynb",
      "provenance": [],
      "authorship_tag": "ABX9TyP+oPwNp439Qj5/R8HR+ruU",
      "include_colab_link": true
    },
    "kernelspec": {
      "name": "python3",
      "display_name": "Python 3"
    },
    "language_info": {
      "name": "python"
    }
  },
  "cells": [
    {
      "cell_type": "markdown",
      "metadata": {
        "id": "view-in-github",
        "colab_type": "text"
      },
      "source": [
        "<a href=\"https://colab.research.google.com/github/NurAqila/Phyton/blob/main/LAB_5.ipynb\" target=\"_parent\"><img src=\"https://colab.research.google.com/assets/colab-badge.svg\" alt=\"Open In Colab\"/></a>"
      ]
    },
    {
      "cell_type": "code",
      "metadata": {
        "id": "a6Ox8WEtrG35",
        "colab": {
          "base_uri": "https://localhost:8080/"
        },
        "outputId": "539b5b06-66f6-43a2-f9b2-2ca59d51dd4e"
      },
      "source": [
        "#check palindrome or not\n",
        "def checkpal (strlist):\n",
        "  for x in strlist:\n",
        "    if x==x[::-1]:\n",
        "      print(x,\": YES\")\n",
        "      \n",
        "    else:\n",
        "      print(x,\": NO\")\n",
        "     \n",
        "    \n",
        "\n",
        "list1=[\"madam\",\"katak\",\"biawak\",\"step\",\"saippuakivikauppias\",\"nolemon nomelon\"]\n",
        "checkpal(list1)"
      ],
      "execution_count": null,
      "outputs": [
        {
          "output_type": "stream",
          "text": [
            "madam : YES\n",
            "katak : YES\n",
            "biawak : NO\n",
            "step : NO\n",
            "saippuakivikauppias : YES\n",
            "nolemon nomelon : YES\n"
          ],
          "name": "stdout"
        }
      ]
    },
    {
      "cell_type": "code",
      "metadata": {
        "colab": {
          "base_uri": "https://localhost:8080/"
        },
        "id": "grFwVvRAC_W5",
        "outputId": "31d3b0eb-9fbd-4c81-848a-5a192cb39237"
      },
      "source": [
        "import random\n",
        " \n",
        "def primenum(listran):\n",
        "  for x in listran:\n",
        "    #prime number greater than 1\n",
        "    if x>1:\n",
        "      for i in range(2,x):\n",
        "        if(x%i)==0:\n",
        "          print(x,\"is not a prime number\")\n",
        "          break\n",
        "      else:\n",
        "       print(x,\"is a prime number\")\n",
        "    #1 or less than 1\n",
        "    else:\n",
        "      print(x,\"is not a prime number\")\n",
        "#main\n",
        "ranlist=[]\n",
        "for i in range(0,20):\n",
        "  n = random.randint(0,100)\n",
        "  #n = random.random()\n",
        "  ranlist.append(n)\n",
        " \n",
        "primenum(ranlist)"
      ],
      "execution_count": null,
      "outputs": [
        {
          "output_type": "stream",
          "text": [
            "48 is not a prime number\n",
            "97 is a prime number\n",
            "85 is not a prime number\n",
            "40 is not a prime number\n",
            "27 is not a prime number\n",
            "41 is a prime number\n",
            "59 is a prime number\n",
            "68 is not a prime number\n",
            "14 is not a prime number\n",
            "7 is a prime number\n",
            "9 is not a prime number\n",
            "42 is not a prime number\n",
            "72 is not a prime number\n",
            "84 is not a prime number\n",
            "79 is a prime number\n",
            "96 is not a prime number\n",
            "55 is not a prime number\n",
            "44 is not a prime number\n",
            "36 is not a prime number\n",
            "57 is not a prime number\n"
          ],
          "name": "stdout"
        }
      ]
    },
    {
      "cell_type": "code",
      "metadata": {
        "colab": {
          "base_uri": "https://localhost:8080/"
        },
        "id": "PcAFK7LEGlGJ",
        "outputId": "093335cc-9ee0-4bf4-d482-fbfb05715b18"
      },
      "source": [
        "def checkcase(strinput):\n",
        "  \n",
        "  for words in strinput:\n",
        "    upper=0\n",
        "    lower=0\n",
        "\n",
        "    for x in words:\n",
        "      if (x.islower()):\n",
        "        lower=lower+1\n",
        "      elif (x.isupper()):\n",
        "        upper=upper+1\n",
        "\n",
        "    print(words,\":\")\n",
        "    print(\"The lower case letters:\",lower)\n",
        "    print(\"The upper case letters:\",upper)\n",
        "\n",
        "list1=[\"The quick Brow Fox\",\"fsdshAGB\"]\n",
        "checkcase(list1)\n",
        "  "
      ],
      "execution_count": null,
      "outputs": [
        {
          "output_type": "stream",
          "text": [
            "The quick Brow Fox :\n",
            "The lower case letters: 12\n",
            "The upper case letters: 3\n",
            "fsdshAGB :\n",
            "The lower case letters: 5\n",
            "The upper case letters: 3\n"
          ],
          "name": "stdout"
        }
      ]
    },
    {
      "cell_type": "code",
      "metadata": {
        "id": "1YLIOvSBF6Gt",
        "colab": {
          "base_uri": "https://localhost:8080/"
        },
        "outputId": "8b628cfa-a875-4787-8f77-1172ef738604"
      },
      "source": [
        "\n",
        "import re\n",
        "text = 'The quick brown fox jumps over the lazy dog.'\n",
        "\n",
        "x=re.findall(r\"\\b[A-Za-z]{5}\\b\",text)\n",
        "print(\"Words that have five characters long: \", x)\n"
      ],
      "execution_count": 16,
      "outputs": [
        {
          "output_type": "stream",
          "text": [
            "Words that have five characters long:  ['quick', 'brown', 'jumps']\n"
          ],
          "name": "stdout"
        }
      ]
    },
    {
      "cell_type": "code",
      "metadata": {
        "colab": {
          "base_uri": "https://localhost:8080/"
        },
        "id": "tCYF-3AYEsav",
        "outputId": "f99aff44-4c2c-4748-8df5-525f5ac764fa"
      },
      "source": [
        "import re\n",
        "text ='Microsoft Corp. today announced its “Bersama Malaysia” (Together with Malaysia) initiative, which marks a significant commitment to empowering Malaysia’s inclusive digital economy and advancing the nation’s digital transformation across the private and public sectors. As part of the plan, Microsoft will establish its first datacenter region in the country to deliver trusted cloud services locally, with world-class data security, privacy, and the ability to store data in-country. Microsoft also announced plans to skill an additional 1 million Malaysians by end of 2023 to help create economic opportunities for people and businesses in the digital era.'\n",
        "\n",
        "list=re.findall(r\"\\b[aAeE]\\w+\", text) \n",
        "char3=re.findall(r\"\\b[A-Za-z-]{3}\\b\", text)\n",
        "char4=re.findall(r\"\\b[A-Za-z-]{4}\\b\", text)\n",
        "char5=re.findall(r\"\\b[A-Za-z-]{5}\\b\", text)\n",
        "\n",
        "print(\"Words start with a and e: \", list)\n",
        "print(\"Three  characters:\",char3)\n",
        "print(\"Four  characters:\",char4)\n",
        "print(\"Five  characters:\",char5)"
      ],
      "execution_count": 15,
      "outputs": [
        {
          "output_type": "stream",
          "text": [
            "Words start with a and e:  ['announced', 'empowering', 'economy', 'and', 'advancing', 'across', 'and', 'As', 'establish', 'and', 'ability', 'also', 'announced', 'an', 'additional', 'end', 'economic', 'and', 'era']\n",
            "Three  characters: ['its', 'and', 'the', 'the', 'and', 'the', 'its', 'the', 'and', 'the', 'in-', 'end', 'for', 'and', 'the', 'era']\n",
            "Four  characters: ['Corp', 'with', 'part', 'plan', 'will', 'with', 'data', 'data', 'also', 'help']\n",
            "Five  characters: ['today', 'which', 'marks', 'first', 'cloud', 'world', 'class', 'store', 'plans', 'skill']\n"
          ],
          "name": "stdout"
        }
      ]
    }
  ]
}