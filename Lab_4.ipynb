{
  "nbformat": 4,
  "nbformat_minor": 0,
  "metadata": {
    "colab": {
      "name": "Lab 4.ipynb",
      "provenance": [],
      "authorship_tag": "ABX9TyPKNT1SsOgba0YPzSJIvvZp"
    },
    "kernelspec": {
      "name": "python3",
      "display_name": "Python 3"
    },
    "language_info": {
      "name": "python"
    }
  },
  "cells": [
    {
      "cell_type": "code",
      "metadata": {
        "colab": {
          "base_uri": "https://localhost:8080/"
        },
        "id": "d6k8cHEgdLwA",
        "outputId": "5058ad56-23ec-4fbb-e220-4729c45cc236"
      },
      "source": [
        "\n",
        "def primenum(upper=2):\n",
        "  list1=[]\n",
        "  lower=0\n",
        "  for num in range(lower,upper+1):\n",
        "    if num>1:\n",
        "      for i in range(2,num):\n",
        "        if(num%i)==0:\n",
        "          break\n",
        "      else:\n",
        "        list1.append(num)\n",
        "  print(*list1, sep=', ')\n",
        "  \n",
        "primenum(10)\n",
        "primenum()\n",
        "primenum(15)\n"
      ],
      "execution_count": null,
      "outputs": [
        {
          "output_type": "stream",
          "text": [
            "2, 3, 5, 7\n",
            "2\n",
            "2, 3, 5, 7, 11, 13\n"
          ],
          "name": "stdout"
        }
      ]
    },
    {
      "cell_type": "code",
      "metadata": {
        "id": "2DSxgkCRxr70"
      },
      "source": [
        "def listfriends(*s):\n",
        "  friend=[]\n",
        "  for x in s:\n",
        "    if len(s)==1:\n",
        "      friend.append(x)\n",
        "    elif len(s)>1:\n",
        "      friend.append(x)\n",
        "    else:\n",
        "      break\n",
        "  print(\"My friend(s) :\", *friend, sep=\", \")\n",
        "\n",
        "\n",
        "listfriends(\"azlina\")\n",
        "listfriends(\"syafiq\",\"asyraf\")\n",
        "listfriends(\"xa\",\"ya\",\"za\")\n",
        "listfriends()"
      ],
      "execution_count": null,
      "outputs": []
    },
    {
      "cell_type": "code",
      "metadata": {
        "colab": {
          "base_uri": "https://localhost:8080/"
        },
        "id": "0k_Dde5EPEIt",
        "outputId": "6e173030-3ddb-45d8-86e7-e3154a44e418"
      },
      "source": [
        "def countchar(str1, char):\n",
        "  count=0\n",
        "  for i in str1:\n",
        "    if i == char:\n",
        "      count=count+1\n",
        "  print(char, count)\n",
        "\n",
        "stringinp=\"thequickbrownfoxjumpsoverthelazydog\"\n",
        "countchar(stringinp,\"o\")\n",
        "countchar(stringinp,\"e\")\n",
        "countchar(stringinp,\"u\")\n",
        "countchar(stringinp,\"h\")\n",
        "countchar(stringinp,\"r\")\n",
        "countchar(stringinp,\"t\")"
      ],
      "execution_count": null,
      "outputs": [
        {
          "output_type": "stream",
          "text": [
            "o 4\n",
            "e 3\n",
            "u 2\n",
            "h 2\n",
            "r 2\n",
            "t 2\n"
          ],
          "name": "stdout"
        }
      ]
    },
    {
      "cell_type": "code",
      "metadata": {
        "colab": {
          "base_uri": "https://localhost:8080/"
        },
        "id": "5qFw5GIJN5xI",
        "outputId": "ac85c9e5-7c51-44a2-e5fa-f566b1605d7b"
      },
      "source": [
        " def countchar(str1, char):\n",
        "  count=0\n",
        "  for i in str1:\n",
        "    if i == char:\n",
        "      count=count+1\n",
        "  return(char, count)\n",
        "\n",
        "stringinp=\"thequickbrownfoxjumpsoverthelazydog\"\n",
        "print(countchar(stringinp,\"o\"))\n",
        "print(countchar(stringinp,\"e\"))\n",
        "print(countchar(stringinp,\"u\"))\n",
        "print(countchar(stringinp,\"h\"))\n",
        "print(countchar(stringinp,\"r\"))\n",
        "print(countchar(stringinp,\"t\"))"
      ],
      "execution_count": null,
      "outputs": [
        {
          "output_type": "stream",
          "text": [
            "('o', 4)\n",
            "('e', 3)\n",
            "('u', 2)\n",
            "('h', 2)\n",
            "('r', 2)\n",
            "('t', 2)\n"
          ],
          "name": "stdout"
        }
      ]
    },
    {
      "cell_type": "code",
      "metadata": {
        "colab": {
          "base_uri": "https://localhost:8080/"
        },
        "id": "6Y89EtGsF5yP",
        "outputId": "0a655e0f-8938-4b4e-87cc-fa6c888719f8"
      },
      "source": [
        "def functiony(*name):\n",
        "  if (len(name)==0):\n",
        "    print(\"My friend(s): nobody\")\n",
        "  else:\n",
        "    print(\"My friend(s):\" , name)\n",
        "\n",
        "functiony(\"azlina\")\n",
        "functiony(\"Syafiq\", \"asyraf\")\n",
        "functiony(\"xa\",\"ya\",\"za\")\n",
        "functiony()\n",
        "\n"
      ],
      "execution_count": null,
      "outputs": [
        {
          "output_type": "stream",
          "text": [
            "My friend(s): ('azlina',)\n",
            "My friend(s): ('Syafiq', 'asyraf')\n",
            "My friend(s): ('xa', 'ya', 'za')\n",
            "My friend(s): nobody\n"
          ],
          "name": "stdout"
        }
      ]
    },
    {
      "cell_type": "code",
      "metadata": {
        "colab": {
          "base_uri": "https://localhost:8080/"
        },
        "id": "1pXCS6y3SzTp",
        "outputId": "fe3c1366-d35a-4a4c-d035-4be6c6e78ebe"
      },
      "source": [
        "import collections\n",
        "str1 = 'thequickbrownfoxjumpsoverthelazydog'\n",
        "d = collections.defaultdict(int)\n",
        "for c in str1:\n",
        "    d[c] += 1\n",
        "\n",
        "for c in sorted(d, key=d.get, reverse=True):\n",
        "  if d[c] > 1:\n",
        "      print('%s %d' % (c, d[c]))"
      ],
      "execution_count": null,
      "outputs": [
        {
          "output_type": "stream",
          "text": [
            "o 4\n",
            "e 3\n",
            "t 2\n",
            "h 2\n",
            "u 2\n",
            "r 2\n"
          ],
          "name": "stdout"
        }
      ]
    },
    {
      "cell_type": "code",
      "metadata": {
        "colab": {
          "base_uri": "https://localhost:8080/"
        },
        "id": "ab6L8eJrTigJ",
        "outputId": "3c011df8-3969-4722-f57d-e731bf758d31"
      },
      "source": [
        "chars = 'abcdefghijklmnopqrstuvwxyz'\n",
        "string = 'thequickbrownfoxjumpsoverthelazydog'\n",
        "\n",
        "# function \n",
        "def countChar (text):\n",
        "  charX = []\n",
        "  num = []\n",
        "  for i in chars:\n",
        "    c = text.count(i)\n",
        "    print(i,c)\n",
        "    if c > 1:\n",
        "      charX.append(i)\n",
        "      num.append(c)\n",
        "  return charX,num\n",
        "\n",
        "print(countChar(string))\n"
      ],
      "execution_count": null,
      "outputs": [
        {
          "output_type": "stream",
          "text": [
            "a 1\n",
            "b 1\n",
            "c 1\n",
            "d 1\n",
            "e 3\n",
            "f 1\n",
            "g 1\n",
            "h 2\n",
            "i 1\n",
            "j 1\n",
            "k 1\n",
            "l 1\n",
            "m 1\n",
            "n 1\n",
            "o 4\n",
            "p 1\n",
            "q 1\n",
            "r 2\n",
            "s 1\n",
            "t 2\n",
            "u 2\n",
            "v 1\n",
            "w 1\n",
            "x 1\n",
            "y 1\n",
            "z 1\n",
            "(['e', 'h', 'o', 'r', 't', 'u'], [3, 2, 4, 2, 2, 2])\n"
          ],
          "name": "stdout"
        }
      ]
    }
  ]
}